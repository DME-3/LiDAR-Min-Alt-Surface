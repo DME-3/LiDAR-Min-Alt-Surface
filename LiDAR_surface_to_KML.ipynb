{
 "cells": [
  {
   "cell_type": "code",
   "execution_count": null,
   "metadata": {},
   "outputs": [],
   "source": [
    "!pip install utm\n",
    "!pip install geojsoncontour"
   ]
  },
  {
   "cell_type": "code",
   "execution_count": 108,
   "metadata": {},
   "outputs": [],
   "source": [
    "import pickle\n",
    "import numpy as np\n",
    "import utm\n",
    "from simplekml import Kml, AltitudeMode, Color\n",
    "from tqdm import tqdm"
   ]
  },
  {
   "cell_type": "code",
   "execution_count": 101,
   "metadata": {},
   "outputs": [],
   "source": [
    "def utm_to_wgs84(x_coords, y_coords, zone_number=32, zone_letter='N'):\n",
    "    lon_coords = np.zeros(x_coords.size)\n",
    "    lat_coords = np.zeros(y_coords.size)\n",
    "\n",
    "    for i, x in enumerate(x_coords):\n",
    "        _, lon = utm.to_latlon(x, y_coords[0], zone_number, zone_letter)\n",
    "        lon_coords[i] = lon\n",
    "\n",
    "    for i, y in enumerate(y_coords):\n",
    "        lat, _ = utm.to_latlon(x_coords[0], y, zone_number, zone_letter)\n",
    "        lat_coords[i] = lat\n",
    "\n",
    "    return lon_coords, lat_coords"
   ]
  },
  {
   "cell_type": "code",
   "execution_count": 114,
   "metadata": {},
   "outputs": [],
   "source": [
    "with open('xyz_pickles/x_results.pkl','rb') as f:\n",
    "    x_results = pickle.load(f)\n",
    "\n",
    "with open('xyz_pickles/y_results.pkl','rb') as f:\n",
    "    y_results = pickle.load(f)\n",
    "\n",
    "with open('xyz_pickles/z_results.pkl','rb') as f:\n",
    "    z_results = pickle.load(f)"
   ]
  },
  {
   "cell_type": "code",
   "execution_count": 115,
   "metadata": {},
   "outputs": [],
   "source": [
    "x_array = np.array([])\n",
    "\n",
    "for i in range(len(x_results)):\n",
    "  x_array = np.concatenate((x_array, x_results[i][0]))\n",
    "\n",
    "y_array = np.array([])\n",
    "\n",
    "for j in range(len(y_results)):\n",
    "  y_array = np.concatenate((y_array, y_results[0][j]))"
   ]
  },
  {
   "cell_type": "code",
   "execution_count": 116,
   "metadata": {},
   "outputs": [],
   "source": [
    "lst = z_results\n",
    "\n",
    "row=len(lst)\n",
    "col=len(lst[0])\n",
    "\n",
    "for j in range(0, row):\n",
    "  #print('j=%s'%(j))\n",
    "  for i in range(0, col):\n",
    "    #print('i=%s'%(i))\n",
    "    #print(z_results[i][j].shape)\n",
    "    if i==0:\n",
    "      z_array_row = z_results[i][j]\n",
    "    else:\n",
    "      z_array_row = np.hstack((z_array_row, z_results[i][j]))\n",
    "  \n",
    "  if j==0:\n",
    "    z_array = z_array_row\n",
    "  else:\n",
    "    z_array = np.vstack((z_array, z_array_row))"
   ]
  },
  {
   "cell_type": "code",
   "execution_count": 117,
   "metadata": {},
   "outputs": [],
   "source": [
    "z_array = z_array + 300"
   ]
  },
  {
   "cell_type": "code",
   "execution_count": 118,
   "metadata": {},
   "outputs": [],
   "source": [
    "n = 2\n",
    "\n",
    "x_array = x_array[::n]\n",
    "y_array = y_array[::n]\n",
    "z_array = z_array[::n, ::n]"
   ]
  },
  {
   "cell_type": "code",
   "execution_count": 119,
   "metadata": {},
   "outputs": [],
   "source": [
    "def create_kml_surface(lon_coords, lat_coords, z_coords, kml_filename='surface.kml'):\n",
    "    kml = Kml()\n",
    "    altitude_mode = AltitudeMode.absolute\n",
    "\n",
    "    for i in range(len(lat_coords) - 1):\n",
    "        for j in range(len(lon_coords) - 1):\n",
    "            pol = kml.newpolygon(outerboundaryis=[\n",
    "                (lon_coords[j], lat_coords[i], z_coords[i, j]),\n",
    "                (lon_coords[j+1], lat_coords[i], z_coords[i, j+1]),\n",
    "                (lon_coords[j+1], lat_coords[i+1], z_coords[i+1, j+1]),\n",
    "                (lon_coords[j], lat_coords[i+1], z_coords[i+1, j]),\n",
    "                (lon_coords[j], lat_coords[i], z_coords[i, j])\n",
    "            ])\n",
    "            pol.altitudemode = altitude_mode\n",
    "            pol.extrude = 0  # Disable extrusion (remove side walls)\n",
    "            pol.polystyle.outline = 0  # Disable outline\n",
    "            pol.polystyle.color = Color.changealphaint(220, Color.red)  # Set color to red with 50% transparency (128)\n",
    "\n",
    "    kml.save(kml_filename)"
   ]
  },
  {
   "cell_type": "code",
   "execution_count": 120,
   "metadata": {},
   "outputs": [],
   "source": [
    "lon_array, lat_array = utm_to_wgs84(x_array, y_array)"
   ]
  },
  {
   "cell_type": "code",
   "execution_count": 121,
   "metadata": {},
   "outputs": [],
   "source": [
    "create_kml_surface(lon_array, lat_array, z_array, 'Minimum_AMSL_surface.kml')"
   ]
  },
  {
   "cell_type": "code",
   "execution_count": 106,
   "metadata": {},
   "outputs": [
    {
     "data": {
      "text/plain": [
       "63"
      ]
     },
     "execution_count": 106,
     "metadata": {},
     "output_type": "execute_result"
    }
   ],
   "source": [
    "x_array.size"
   ]
  }
 ],
 "metadata": {
  "kernelspec": {
   "display_name": "Python 3.10.6 ('.venv': venv)",
   "language": "python",
   "name": "python3"
  },
  "language_info": {
   "codemirror_mode": {
    "name": "ipython",
    "version": 3
   },
   "file_extension": ".py",
   "mimetype": "text/x-python",
   "name": "python",
   "nbconvert_exporter": "python",
   "pygments_lexer": "ipython3",
   "version": "3.10.6"
  },
  "orig_nbformat": 4,
  "vscode": {
   "interpreter": {
    "hash": "f6a76513b3667adad913250efde8ecd46ce811e6dd50a4195b065ebfbfce5881"
   }
  }
 },
 "nbformat": 4,
 "nbformat_minor": 2
}
