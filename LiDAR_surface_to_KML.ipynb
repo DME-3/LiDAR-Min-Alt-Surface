{
 "cells": [
  {
   "cell_type": "code",
   "execution_count": 108,
   "metadata": {},
   "outputs": [],
   "source": [
    "import pickle\n",
    "import numpy as np\n",
    "import utm\n",
    "from simplekml import Kml, AltitudeMode, Color\n",
    "from tqdm import tqdm"
   ]
  },
  {
   "cell_type": "code",
   "execution_count": 151,
   "metadata": {},
   "outputs": [],
   "source": [
    "def utm_to_wgs84(x_coords, y_coords, zone_number=32, zone_letter='N'):\n",
    "    x_grid, y_grid = np.meshgrid(x_coords, y_coords)\n",
    "    lat_grid = np.zeros_like(x_grid)\n",
    "    lon_grid = np.zeros_like(x_grid)\n",
    "\n",
    "    for i in range(x_grid.shape[0]):\n",
    "        for j in range(x_grid.shape[1]):\n",
    "            lat, lon = utm.to_latlon(x_grid[i, j], y_grid[i, j], zone_number, zone_letter)\n",
    "            lat_grid[i, j] = lat\n",
    "            lon_grid[i, j] = lon\n",
    "\n",
    "    lat_coords = lat_grid.mean(axis=1)\n",
    "    lon_coords = lon_grid.mean(axis=0)\n",
    "\n",
    "    return lon_coords, lat_coords"
   ]
  },
  {
   "cell_type": "code",
   "execution_count": 140,
   "metadata": {},
   "outputs": [],
   "source": [
    "with open('xyz_pickles/x_results.pkl','rb') as f:\n",
    "    x_results = pickle.load(f)\n",
    "\n",
    "with open('xyz_pickles/y_results.pkl','rb') as f:\n",
    "    y_results = pickle.load(f)\n",
    "\n",
    "with open('xyz_pickles/z_results.pkl','rb') as f:\n",
    "    z_results = pickle.load(f)"
   ]
  },
  {
   "cell_type": "code",
   "execution_count": 141,
   "metadata": {},
   "outputs": [],
   "source": [
    "x_array = np.array([])\n",
    "\n",
    "for i in range(len(x_results)):\n",
    "  x_array = np.concatenate((x_array, x_results[i][0]))\n",
    "\n",
    "y_array = np.array([])\n",
    "\n",
    "for j in range(len(y_results)):\n",
    "  y_array = np.concatenate((y_array, y_results[0][j]))"
   ]
  },
  {
   "cell_type": "code",
   "execution_count": 142,
   "metadata": {},
   "outputs": [],
   "source": [
    "lst = z_results\n",
    "\n",
    "row=len(lst)\n",
    "col=len(lst[0])\n",
    "\n",
    "for j in range(0, row):\n",
    "  for i in range(0, col):\n",
    "    if i==0:\n",
    "      z_array_row = z_results[i][j]\n",
    "    else:\n",
    "      z_array_row = np.hstack((z_array_row, z_results[i][j]))\n",
    "  \n",
    "  if j==0:\n",
    "    z_array = z_array_row\n",
    "  else:\n",
    "    z_array = np.vstack((z_array, z_array_row))"
   ]
  },
  {
   "cell_type": "code",
   "execution_count": 143,
   "metadata": {},
   "outputs": [],
   "source": [
    "z_array = z_array + 300"
   ]
  },
  {
   "cell_type": "code",
   "execution_count": 144,
   "metadata": {},
   "outputs": [],
   "source": [
    "n = 2\n",
    "\n",
    "x_array = x_array[::n]\n",
    "y_array = y_array[::n]\n",
    "z_array = z_array[::n, ::n]"
   ]
  },
  {
   "cell_type": "code",
   "execution_count": 147,
   "metadata": {},
   "outputs": [],
   "source": [
    "def create_kml_surface(lon_coords, lat_coords, z_coords, kml_filename='surface.kml'):\n",
    "    kml = Kml()\n",
    "    altitude_mode = AltitudeMode.absolute\n",
    "\n",
    "    for i in range(len(lat_coords) - 1):\n",
    "        for j in range(len(lon_coords) - 1):\n",
    "            pol = kml.newpolygon(outerboundaryis=[\n",
    "                (lon_coords[j], lat_coords[i], z_coords[i, j]),\n",
    "                (lon_coords[j+1], lat_coords[i], z_coords[i, j+1]),\n",
    "                (lon_coords[j+1], lat_coords[i+1], z_coords[i+1, j+1]),\n",
    "                (lon_coords[j], lat_coords[i+1], z_coords[i+1, j]),\n",
    "                (lon_coords[j], lat_coords[i], z_coords[i, j])\n",
    "            ])\n",
    "            pol.altitudemode = altitude_mode\n",
    "            pol.extrude = 0  # Disable extrusion (remove side walls)\n",
    "            pol.polystyle.outline = 0  # Disable outline\n",
    "            pol.polystyle.color = Color.changealphaint(220, Color.red)  # Set color to red with 50% transparency (128)\n",
    "\n",
    "    kml.save(kml_filename)"
   ]
  },
  {
   "cell_type": "code",
   "execution_count": 152,
   "metadata": {},
   "outputs": [],
   "source": [
    "lon_array, lat_array = utm_to_wgs84(x_array, y_array)"
   ]
  },
  {
   "cell_type": "code",
   "execution_count": 156,
   "metadata": {},
   "outputs": [],
   "source": [
    "create_kml_surface(lon_array, lat_array, z_array, 'Obstacles_surface.kml')"
   ]
  }
 ],
 "metadata": {
  "kernelspec": {
   "display_name": "Python 3.10.6 ('.venv': venv)",
   "language": "python",
   "name": "python3"
  },
  "language_info": {
   "codemirror_mode": {
    "name": "ipython",
    "version": 3
   },
   "file_extension": ".py",
   "mimetype": "text/x-python",
   "name": "python",
   "nbconvert_exporter": "python",
   "pygments_lexer": "ipython3",
   "version": "3.10.6"
  },
  "orig_nbformat": 4,
  "vscode": {
   "interpreter": {
    "hash": "f6a76513b3667adad913250efde8ecd46ce811e6dd50a4195b065ebfbfce5881"
   }
  }
 },
 "nbformat": 4,
 "nbformat_minor": 2
}
